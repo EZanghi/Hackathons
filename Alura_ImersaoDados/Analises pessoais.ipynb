{
 "cells": [
  {
   "cell_type": "markdown",
   "metadata": {},
   "source": [
    "# Ideias a serem exploradas\n",
    "\n",
    "### Verificar nota 0 da redação e razões\n",
    "### Relação entre competências na redação \"NU_NOTA_COMPx\" e a nota final\n",
    "### Relação entre competências e outras notas\n",
    "### Relação entre competências e análise socio-econômica\n",
    "# ================================================="
   ]
  },
  {
   "cell_type": "markdown",
   "metadata": {},
   "source": [
    "# Proposta 1:\n",
    "## Plotar a  distribuição de nota total por região no mapa do Brasil\n",
    "\n",
    "### Sites para referência de como plotar gráfico no mapa Brasil\n",
    "#### https://www.monolitonimbus.com.br/plotar-mapas-no-python/\n",
    "#### https://minerandodados.com.br/plotando-mapas-interativos-com-python-visualize-dados-de-vendas-por-regiao/\n",
    "### ============================================================================================================\n",
    "# Proposta 2 (complementar):\n",
    "## Comparar plots da Proposta 1 com temperatura registrada na região no dia da prova. Com isso discutir possível\n",
    "## influência do clima (conforto térmico) com desempenho na prova.\n",
    "\n",
    "### Sites para referência\n",
    "#### https://www.cptec.inpe.br/noticias/noticia/130728\n",
    "#### https://s3.cptec.inpe.br/admingpt/tempo/pdf/sintese_mensal_112019%20[Modo%20de%20Compatibilidade].pdf"
   ]
  },
  {
   "cell_type": "code",
   "execution_count": null,
   "metadata": {},
   "outputs": [],
   "source": []
  }
 ],
 "metadata": {
  "kernelspec": {
   "display_name": "Python 3 (ipykernel)",
   "language": "python",
   "name": "python3"
  },
  "language_info": {
   "codemirror_mode": {
    "name": "ipython",
    "version": 3
   },
   "file_extension": ".py",
   "mimetype": "text/x-python",
   "name": "python",
   "nbconvert_exporter": "python",
   "pygments_lexer": "ipython3",
   "version": "3.8.5"
  }
 },
 "nbformat": 4,
 "nbformat_minor": 4
}
