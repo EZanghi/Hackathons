{
 "cells": [
  {
   "cell_type": "markdown",
   "id": "d7e927d7-ba14-4e8f-9894-0a11b3c8a40f",
   "metadata": {
    "id": "d7e927d7-ba14-4e8f-9894-0a11b3c8a40f"
   },
   "source": [
    "# Dinâmica de listas em Python"
   ]
  },
  {
   "cell_type": "markdown",
   "id": "efe34d45-fff2-4afd-97fa-70c3340ee9f4",
   "metadata": {
    "id": "efe34d45-fff2-4afd-97fa-70c3340ee9f4"
   },
   "source": [
    "## **Contexto**"
   ]
  },
  {
   "cell_type": "markdown",
   "id": "da4a506e-7a30-4202-82c6-8d3e65510469",
   "metadata": {
    "id": "da4a506e-7a30-4202-82c6-8d3e65510469"
   },
   "source": [
    "Vamos trabalhar com dados de empresas unicórnios (startups avaliadas em pelo menos 1 bilhão de reais).\n",
    "\n",
    "Para carregar os dados certifique-se de fazer o upload do arquivo `dados.py` no Colab (ou na pasta local que estiver executando o Python, caso esteja utilizando Python no seu próprio computador) e a seguir execute o comando abaixo dessa caixa de texto.\n",
    "\n",
    "Cada objeto destes é uma lista com as seguintes informações:\n",
    "- `companies`: lista das startups (não utilizaremos, mas deixei aqui caso haja curiosidade)\n",
    "- `values`: lista dos preços avaliados até outubro de 2021 (em bilhão de dólares)\n",
    "- `created_at`: lista dos anos de criação das startups\n",
    "- `categories`: lista com os ramos das startups\n",
    "\n",
    "Cada lista possui 917 itens e todas as listas são relacionadas uma com a outra. Por exemplo, o primeiro item da lista *values* (`values[0]`) corresponde ao valor da primeira startup (`companies[0]`) e assim por diante.\n",
    "\n",
    "Você deverá responder as três questões, que aumentam em complexidade (fácil, moderado e difícil) utilizando  **apenas loops, listas e condicionais**, vistos na aula de Python. Não utilize nenhuma biblioteca, pois o objetivo desta dinâmica é exercitar a familiaridade principalmente com listas.\n",
    "\n",
    "Boa sorte =D"
   ]
  },
  {
   "cell_type": "markdown",
   "id": "06b424ec-ed78-404e-a1d7-53457b5076b6",
   "metadata": {
    "id": "06b424ec-ed78-404e-a1d7-53457b5076b6"
   },
   "source": [
    "**Importando as listas das questões:**"
   ]
  },
  {
   "cell_type": "code",
   "execution_count": 1,
   "id": "3fc22b73-ba8b-401a-98f8-1f37aa62fde2",
   "metadata": {
    "executionInfo": {
     "elapsed": 258,
     "status": "ok",
     "timestamp": 1648475008580,
     "user": {
      "displayName": "Fernando Misina",
      "photoUrl": "https://lh3.googleusercontent.com/a-/AOh14GjdoZASSeXxlwX4JIyfpgFYrsdEIbLsXjS0mEap=s64",
      "userId": "13849214493358402674"
     },
     "user_tz": 180
    },
    "id": "3fc22b73-ba8b-401a-98f8-1f37aa62fde2"
   },
   "outputs": [],
   "source": [
    "from dados import companies, values, created_at, countries, categories"
   ]
  },
  {
   "cell_type": "code",
   "execution_count": 2,
   "id": "ba39565c-c876-4246-8ce4-1462b3381c29",
   "metadata": {
    "colab": {
     "base_uri": "https://localhost:8080/"
    },
    "executionInfo": {
     "elapsed": 268,
     "status": "ok",
     "timestamp": 1648475163185,
     "user": {
      "displayName": "Fernando Misina",
      "photoUrl": "https://lh3.googleusercontent.com/a-/AOh14GjdoZASSeXxlwX4JIyfpgFYrsdEIbLsXjS0mEap=s64",
      "userId": "13849214493358402674"
     },
     "user_tz": 180
    },
    "id": "ba39565c-c876-4246-8ce4-1462b3381c29",
    "outputId": "db28ee92-f826-45d0-fa19-ab2e65e3668e"
   },
   "outputs": [
    {
     "name": "stdout",
     "output_type": "stream",
     "text": [
      "917 917 917 917 917\n"
     ]
    }
   ],
   "source": [
    "# Visualizando tamanho das listas\n",
    "com = len(companies) # todas listas tem o mesmo tamanho\n",
    "val = len(values) \n",
    "cre = len(created_at)\n",
    "cou = len(countries)\n",
    "cat = len(categories)\n",
    "print(com, val, cre, cou, cat)\n"
   ]
  },
  {
   "cell_type": "markdown",
   "id": "82a5dde6-2eea-450f-988a-1bd715538f1f",
   "metadata": {
    "id": "82a5dde6-2eea-450f-988a-1bd715538f1f"
   },
   "source": [
    "## **Questão 1:**\n",
    "\n",
    "Quantos países diferentes tem na lista de países? E categorias? E anos de criação das startups (`created_at`)?\n",
    "\n",
    "**Dica:** Salve os valores únicos destas três listas em três variáveis pois será necessário na questão 3.  \n",
    "Por exemplo: `paises_unicos`, `categorias_unicas` e `anos_unicos`."
   ]
  },
  {
   "cell_type": "markdown",
   "id": "a8417691-13d4-44ae-bf83-efa095df98e7",
   "metadata": {
    "id": "a8417691-13d4-44ae-bf83-efa095df98e7"
   },
   "source": [
    "Total de países únicos:"
   ]
  },
  {
   "cell_type": "code",
   "execution_count": 3,
   "id": "eccd74da-93f6-4a8e-b3dd-7b85d9cf0123",
   "metadata": {
    "id": "eccd74da-93f6-4a8e-b3dd-7b85d9cf0123"
   },
   "outputs": [
    {
     "name": "stdout",
     "output_type": "stream",
     "text": [
      "{'India', 'Turkey', 'South Africa', 'Sweden', 'Canada', 'Thailand', 'France', 'Estonia', 'Hong Kong', 'Germany', 'Netherlands', 'Argentina', 'Malaysia', 'South Korea', 'United Kingdom', 'Mexico', 'Singapore', 'Ireland', 'Senegal', 'Vietnam', 'Bermuda', 'Chile', 'Czech Republic', 'Santa Clara', 'Croatia', 'China', 'Austria', 'Brazil', 'Lithuania', 'Switzerland', 'Australia', 'Denmark', 'Colombia', 'Norway', 'Belgium', 'United Arab Emirates', 'Indonesia', 'Nigeria', 'Spain', 'United States', 'Japan', 'Finland', 'Israel', 'Luxembourg', 'Philippines'}\n"
     ]
    }
   ],
   "source": [
    "paises_unicos = set(countries)\n",
    "print(paises_unicos)"
   ]
  },
  {
   "cell_type": "markdown",
   "id": "d991c826-cc0d-4ef0-ac78-1e4cb3456dd9",
   "metadata": {
    "id": "d991c826-cc0d-4ef0-ac78-1e4cb3456dd9"
   },
   "source": [
    "Total de categorias únicas:"
   ]
  },
  {
   "cell_type": "code",
   "execution_count": 4,
   "id": "187c2f89-14ef-40fd-bc85-b239426fff0c",
   "metadata": {
    "id": "187c2f89-14ef-40fd-bc85-b239426fff0c"
   },
   "outputs": [
    {
     "name": "stdout",
     "output_type": "stream",
     "text": [
      "16\n"
     ]
    }
   ],
   "source": [
    "categorias_unicas = set(categories)\n",
    "print(len(categorias_unicas))"
   ]
  },
  {
   "cell_type": "markdown",
   "id": "4808235d-6b98-4aab-b4bf-80b0dc50d7c9",
   "metadata": {
    "id": "4808235d-6b98-4aab-b4bf-80b0dc50d7c9"
   },
   "source": [
    "Total de anos únicos:"
   ]
  },
  {
   "cell_type": "code",
   "execution_count": 7,
   "id": "2d00b419-45f0-4b88-9600-0fb54696b369",
   "metadata": {
    "executionInfo": {
     "elapsed": 2,
     "status": "ok",
     "timestamp": 1648474968375,
     "user": {
      "displayName": "Fernando Misina",
      "photoUrl": "https://lh3.googleusercontent.com/a-/AOh14GjdoZASSeXxlwX4JIyfpgFYrsdEIbLsXjS0mEap=s64",
      "userId": "13849214493358402674"
     },
     "user_tz": 180
    },
    "id": "2d00b419-45f0-4b88-9600-0fb54696b369"
   },
   "outputs": [
    {
     "name": "stdout",
     "output_type": "stream",
     "text": [
      "13\n"
     ]
    }
   ],
   "source": [
    "anos_unicos = set(created_at)\n",
    "print(len(anos_unicos))"
   ]
  },
  {
   "cell_type": "markdown",
   "id": "15a11c1b-bcdf-4132-b8bb-06f8eeffc257",
   "metadata": {
    "id": "15a11c1b-bcdf-4132-b8bb-06f8eeffc257"
   },
   "source": [
    "## **Questão 2:**\n",
    "\n",
    "Some o valor das empresas unicórnios na categoria \"Artificial Intelligence\" E que foram criadas no \"United Kingdom\" ou na \"China\". Arredonde para o número inteiro mais próximo."
   ]
  },
  {
   "cell_type": "code",
   "execution_count": 39,
   "id": "1cc329d3-6a22-4d2e-9f1b-21365b6876ee",
   "metadata": {
    "id": "1cc329d3-6a22-4d2e-9f1b-21365b6876ee"
   },
   "outputs": [
    {
     "name": "stdout",
     "output_type": "stream",
     "text": [
      "188\n"
     ]
    }
   ],
   "source": [
    "paises = (\"United Kingdom\",\"China\")\n",
    "valor_total = []\n",
    "for i in zip(categories, countries, values):\n",
    "    if i[0] == 'Artificial Intelligence' and i[1] in paises:\n",
    "        valor_total.append(i[2])\n",
    "        \n",
    "print(round(sum(valor_total)))"
   ]
  },
  {
   "cell_type": "markdown",
   "id": "e6aceacb-0d2b-4180-a12e-980f1d241b97",
   "metadata": {
    "id": "e6aceacb-0d2b-4180-a12e-980f1d241b97"
   },
   "source": [
    "## **Questão 3**"
   ]
  },
  {
   "cell_type": "markdown",
   "id": "563c329a-79c7-43cd-abd0-7db1a2d10a76",
   "metadata": {
    "id": "563c329a-79c7-43cd-abd0-7db1a2d10a76"
   },
   "source": [
    "Liste de forma ordenada as startups unicórnios brasileiras, sua categoria e seu valor em bilhões. Ordene elas pela companhia com maior valor para a companhia de menor valor."
   ]
  },
  {
   "cell_type": "code",
   "execution_count": 62,
   "id": "e5d187aa-762a-4575-ae11-931d5cc66f0f",
   "metadata": {
    "id": "e5d187aa-762a-4575-ae11-931d5cc66f0f"
   },
   "outputs": [
    {
     "name": "stdout",
     "output_type": "stream",
     "text": [
      "[['Fintech', 'Brazil', 30.0], ['E-commerce & direct-to-consumer', 'Brazil', 5.1], ['Fintech', 'Brazil', 5.05], ['E-commerce & direct-to-consumer', 'Brazil', 3.1], ['Other', 'Brazil', 3.0], ['E-commerce & direct-to-consumer', 'Brazil', 2.9], ['Supply chain, logistics, & delivery', 'Brazil', 2.0], ['Fintech', 'Brazil', 1.75], ['Mobile & telecommunications', 'Brazil', 1.0], ['Supply chain, logistics, & delivery', 'Brazil', 1.0], ['Fintech', 'Brazil', 1.0], ['E-commerce & direct-to-consumer', 'Brazil', 1.0], ['Artificial Intelligence', 'Brazil', 1.0], ['Supply chain, logistics, & delivery', 'Brazil', 1.0]]\n"
     ]
    }
   ],
   "source": [
    "startups_brasileiras = []\n",
    "\n",
    "for cat, cou, val in zip(categories, countries, values):\n",
    "    if cou == 'Brazil':\n",
    "        startups_brasileiras.append([cat, cou, val])\n",
    "\n",
    "print(sorted(startups_brasileiras, key= lambda x: x[2], reverse=True))\n",
    "       "
   ]
  },
  {
   "cell_type": "markdown",
   "id": "dfab8d33-f776-48a5-a45d-e4175f1b001a",
   "metadata": {
    "id": "dfab8d33-f776-48a5-a45d-e4175f1b001a"
   },
   "source": [
    "## **Questão Desafio: Função**"
   ]
  },
  {
   "cell_type": "markdown",
   "id": "1d842b3f-ff53-4747-85f1-095a4f86aec1",
   "metadata": {
    "id": "1d842b3f-ff53-4747-85f1-095a4f86aec1"
   },
   "source": [
    "Faça uma função que retorne a companhia com o maior valor para dado grupo e esse respectivo valor. O grupo pode ser país ou o ramo da empresa, por exemplo.\n",
    "\n",
    "Sua função deve receber **quatro inputs**:\n",
    "\n",
    "- Grupo-alvo\n",
    "- Lista das companhias\n",
    "- Lista dos valores das companhias\n",
    "- Lista de um grupo/categoria da companhia, que onde será procurado o \"grupo-alvo\".\n",
    "\n",
    "Exemplo: vamos supor que você queira saber qual companhia brasileira melhor avaliada financeiramente.  \n",
    "Para isso você poderia executar o código da sua função da seguinte maneira:\n",
    "\n",
    "```python\n",
    "company_valuation(target_group='Brazil', company_list=companies, valuation_list=values, group_list=countries)\n",
    "``` \n",
    "\n",
    "Neste exemplo o nome da sua função é `company_valuation` que recebe os quatro inputs (ou parâmetros) mencionados acima, respectivamente.\n",
    "Sua lista de grupos, como você quer saber um país específico, é a lista de países `countries`. \n",
    "\n",
    "Vamos supor agora que o usuário queira saber qual compania melhor avaliada do ramo Fintech:\n",
    "\n",
    "```python\n",
    "company_valuation(target_group='Fintech', company_list=companies, valuation_list=values, group_list=categories)\n",
    "``` \n",
    "\n",
    "Observe que nesta chamada de função especificamos \"Fintech\" como grupo-alvo, e alteramos a lista de grupo `group_list` para `categories`, que é nossa lista de ramos das companhias.\n",
    "\n",
    "Seu resultado final deve ser uma **tupla com o nome da companhia e seu respectivo valor** (que é o máximo para o grupo em análise).\n",
    "Adicionalmente, dentro de sua função, faça duas checagens antes do seu código para encontrar a companhia, que verifique:\n",
    "- se as três listas de entrada possuem o mesmo tamanho (devem possuir, pois devem ser complementares, ou seja, item1 da lista 1 é o mesmo que o item1 da lista 2 e 3)\n",
    "- se o grupo-alvo especificado de fato existe na lista de grupos\n",
    "\n",
    "Caso as listas não possuam o mesmo tamanho exiba uma mensagem de erro e retorne `None`.  \n",
    "Caso o grupo-alvo não exista na lista de grupos exiba uma mensagem de erro e quais elementos únicos aquela lista de grupo possui e então retorne `None`.\n",
    "\n",
    "Exemplos de chamadas e resultados esperados:\n",
    "\n",
    "```python\n",
    "company_valuation('Brazil', companies, values, countries)\n",
    "# output: ('Nubank', 30.0)\n",
    "company_valuation('Data management & analytics', companies, values, categories)\n",
    "# output: ('Databricks', 38.0)\n",
    "company_valuation('asdfas', companies, values, categories)\n",
    "# output: Elemento \"asdfas\" não está na lista.\n",
    "\n",
    "# Exemplos de elementos únicos da lista: {'Travel', 'Internet software & services', 'Supply chain, logistics, & delivery', 'Fintech', 'Consumer & retail', 'Health', 'Mobile & telecommunications', 'Edtech', 'E-commerce & direct-to-consumer', 'Hardware', 'Auto & transportation', 'Finttech', 'Data management & analytics', 'Cybersecurity', 'Artificial Intelligence', 'Other'}\n",
    "```\n",
    "\n",
    "**Agora, utilize sua função e responda:**\n",
    "\n",
    "1. Qual companhia foi melhor avaliada no ramo \"Internet software & services\"?\n",
    "2. Qual o valor (em bilhões de dólares) da companhia melhor avaliada na China?"
   ]
  },
  {
   "cell_type": "code",
   "execution_count": null,
   "id": "9256d599-e649-4fb1-aff0-63be9c7c6aee",
   "metadata": {
    "executionInfo": {
     "elapsed": 3,
     "status": "ok",
     "timestamp": 1648474952926,
     "user": {
      "displayName": "Fernando Misina",
      "photoUrl": "https://lh3.googleusercontent.com/a-/AOh14GjdoZASSeXxlwX4JIyfpgFYrsdEIbLsXjS0mEap=s64",
      "userId": "13849214493358402674"
     },
     "user_tz": 180
    },
    "id": "9256d599-e649-4fb1-aff0-63be9c7c6aee"
   },
   "outputs": [],
   "source": [
    "def company_valuation(target_group='Brazil', company_list=companies, valuation_list=values, group_list=countries):\n",
    "    "
   ]
  }
 ],
 "metadata": {
  "colab": {
   "name": "Lista_unicornios.ipynb",
   "provenance": []
  },
  "kernelspec": {
   "display_name": "Python 3 (ipykernel)",
   "language": "python",
   "name": "python3"
  },
  "language_info": {
   "codemirror_mode": {
    "name": "ipython",
    "version": 3
   },
   "file_extension": ".py",
   "mimetype": "text/x-python",
   "name": "python",
   "nbconvert_exporter": "python",
   "pygments_lexer": "ipython3",
   "version": "3.8.5"
  }
 },
 "nbformat": 4,
 "nbformat_minor": 5
}
